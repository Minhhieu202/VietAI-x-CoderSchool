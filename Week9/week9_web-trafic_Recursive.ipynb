{
 "cells": [
  {
   "cell_type": "code",
   "execution_count": null,
   "metadata": {},
   "outputs": [],
   "source": [
    "import pandas as pd\n",
    "import matplotlib.pyplot as plt\n",
    "from sklearn.preprocessing import StandardScaler\n",
    "from sklearn.pipeline import Pipeline\n",
    "from sklearn.linear_model import LinearRegression\n",
    "from sklearn.ensemble import RandomForestRegressor\n",
    "from sklearn.metrics import mean_absolute_error,mean_squared_error,r2_score,root_mean_squared_error"
   ]
  },
  {
   "cell_type": "code",
   "execution_count": null,
   "metadata": {},
   "outputs": [],
   "source": [
    "data = pd.read_csv(\"Time-series-datasets\\web-traffic.csv\")\n",
    "data['date'] = pd.to_datetime(data['date'],dayfirst=True)"
   ]
  },
  {
   "cell_type": "code",
   "execution_count": null,
   "metadata": {},
   "outputs": [],
   "source": [
    "def create_ts_data(data,window_size):\n",
    "    i = 1\n",
    "    while i < window_size:\n",
    "        data[\"users_{}\".format(i)] = data[\"users\"].shift(-i)\n",
    "        i += 1\n",
    "    data[\"target\"] = data[\"users\"].shift(-window_size)\n",
    "    data = data.dropna(axis = 0)\n",
    "    return data"
   ]
  },
  {
   "cell_type": "code",
   "execution_count": null,
   "metadata": {},
   "outputs": [],
   "source": [
    "window_size = 5\n",
    "train_ratio = 0.8\n",
    "data = create_ts_data(data, window_size)\n",
    "x = data.drop([\"date\",\"target\"],axis = 1)\n",
    "y = data[\"target\"]\n",
    "sample = len(data)\n",
    "x_train = x[:int(sample*train_ratio)]\n",
    "y_train = y[:int(sample*train_ratio)]\n",
    "x_test = x[int(sample*train_ratio):]\n",
    "y_test = y[int(sample*train_ratio):]"
   ]
  },
  {
   "cell_type": "code",
   "execution_count": null,
   "metadata": {},
   "outputs": [],
   "source": [
    "model = Pipeline(steps=[\n",
    "    (\"standar\", StandardScaler()),\n",
    "    (\"model\", RandomForestRegressor())\n",
    "])"
   ]
  },
  {
   "cell_type": "code",
   "execution_count": null,
   "metadata": {},
   "outputs": [],
   "source": [
    "model.fit(x_train,y_train)\n",
    "y_predict = model.predict(x_test)"
   ]
  },
  {
   "cell_type": "code",
   "execution_count": null,
   "metadata": {},
   "outputs": [],
   "source": [
    "print(\"MAE = {}\".format(mean_absolute_error(y_test,y_predict)))\n",
    "# print(\"MSE = {}\".format(mean_squared_error(y_test,y_predict)))\n",
    "print(\"RMSE = {}\".format(root_mean_squared_error(y_test,y_predict)))\n",
    "print(\"r2 = {}\".format(r2_score(y_test,y_predict)))\n",
    "\n",
    "# MAE = 271.80202380952386\n",
    "# RMSE = 383.6454152863528\n",
    "# r2 = 0.7614081355242083 "
   ]
  }
 ],
 "metadata": {
  "kernelspec": {
   "display_name": "Python 3",
   "language": "python",
   "name": "python3"
  },
  "language_info": {
   "codemirror_mode": {
    "name": "ipython",
    "version": 3
   },
   "file_extension": ".py",
   "mimetype": "text/x-python",
   "name": "python",
   "nbconvert_exporter": "python",
   "pygments_lexer": "ipython3",
   "version": "3.6.4"
  }
 },
 "nbformat": 4,
 "nbformat_minor": 2
}
