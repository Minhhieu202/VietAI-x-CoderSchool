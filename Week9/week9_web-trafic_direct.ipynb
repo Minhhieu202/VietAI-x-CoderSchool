{
 "cells": [
  {
   "cell_type": "code",
   "execution_count": null,
   "metadata": {},
   "outputs": [],
   "source": [
    "import pandas as pd\n",
    "import matplotlib.pyplot as plt\n",
    "from sklearn.preprocessing import StandardScaler\n",
    "from sklearn.pipeline import Pipeline\n",
    "from sklearn.linear_model import LinearRegression\n",
    "from sklearn.metrics import mean_absolute_error,mean_squared_error,r2_score\n",
    "import pickle"
   ]
  },
  {
   "cell_type": "code",
   "execution_count": null,
   "metadata": {},
   "outputs": [],
   "source": [
    "def create_ts_data(data, window_size, target_size):\n",
    "    i = 1\n",
    "    while i < window_size:\n",
    "        data[\"users_{}\".format(i)] = data[\"users\"].shift(-i)\n",
    "        i += 1\n",
    "    i = 0\n",
    "    while i < target_size:\n",
    "        data[\"target_{}\".format(i)] = data[\"users\"].shift(-i-window_size)\n",
    "        i += 1\n",
    "    data = data.dropna(axis = 0)\n",
    "    return data"
   ]
  },
  {
   "cell_type": "code",
   "execution_count": null,
   "metadata": {},
   "outputs": [],
   "source": [
    "data = pd.read_csv(\"Time-series-datasets\\web-traffic.csv\")"
   ]
  },
  {
   "cell_type": "code",
   "execution_count": null,
   "metadata": {},
   "outputs": [],
   "source": [
    "window_size = 5\n",
    "target_size = 3\n",
    "train_ratio = 0.8\n",
    "data = create_ts_data(data,window_size,target_size)"
   ]
  },
  {
   "cell_type": "code",
   "execution_count": null,
   "metadata": {},
   "outputs": [],
   "source": [
    "targets = [\"target_{}\".format(i) for i in range(target_size)]\n",
    "x = data.drop([\"date\"]+targets, axis=1)\n",
    "y = data[targets]"
   ]
  },
  {
   "cell_type": "code",
   "execution_count": null,
   "metadata": {},
   "outputs": [],
   "source": [
    "num_sample = len(data)\n",
    "x_train = x[:int(num_sample*train_ratio)]\n",
    "y_train = y[:int(num_sample*train_ratio)]\n",
    "x_test = x[int(num_sample*train_ratio):]\n",
    "y_test = y[int(num_sample*train_ratio):]"
   ]
  },
  {
   "cell_type": "code",
   "execution_count": null,
   "metadata": {},
   "outputs": [],
   "source": [
    "models = [LinearRegression() for _ in range(target_size)]\n",
    "for index, model in enumerate(models):\n",
    "    model.fit(x_train,y_train[\"target_{}\".format(index)])\n",
    "mse = []\n",
    "mae = []\n",
    "r2 = []\n",
    "for index, model in enumerate(models):\n",
    "    y_predict = model.predict(x_test)\n",
    "    mse.append(mean_squared_error(y_test[\"target_{}\".format(index)],y_predict))\n",
    "    mae.append(mean_absolute_error(y_test[\"target_{}\".format(index)],y_predict))\n",
    "    r2.append(r2_score(y_test[\"target_{}\".format(index)],y_predict))"
   ]
  },
  {
   "cell_type": "code",
   "execution_count": null,
   "metadata": {},
   "outputs": [],
   "source": [
    "print(mse)\n",
    "print(mae)\n",
    "print(r2)\n",
    "\n",
    "# mse: [283364.5371801669, 285304.3602277359, 106464.9449569765]\n",
    "# mae: [405.5881664377471, 361.3146446248461, 252.6184737687664]\n",
    "# r2:  [0.5601896890179235, 0.5428945889576352, 0.8223001301812864]"
   ]
  }
 ],
 "metadata": {
  "kernelspec": {
   "display_name": "Python 3",
   "language": "python",
   "name": "python3"
  },
  "language_info": {
   "codemirror_mode": {
    "name": "ipython",
    "version": 3
   },
   "file_extension": ".py",
   "mimetype": "text/x-python",
   "name": "python",
   "nbconvert_exporter": "python",
   "pygments_lexer": "ipython3",
   "version": "3.12.0"
  }
 },
 "nbformat": 4,
 "nbformat_minor": 2
}
